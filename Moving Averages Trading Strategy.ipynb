{
 "cells": [
  {
   "cell_type": "code",
   "execution_count": 2,
   "id": "95a1d960",
   "metadata": {},
   "outputs": [],
   "source": [
    "import pandas as pd\n",
    "import matplotlib.pyplot as plt\n",
    "%matplotlib inline"
   ]
  },
  {
   "cell_type": "code",
   "execution_count": 3,
   "id": "5e0fd683",
   "metadata": {},
   "outputs": [],
   "source": [
    "fb = pd.read_csv ('fb.csv', index_col = 'Date')"
   ]
  },
  {
   "cell_type": "code",
   "execution_count": 4,
   "id": "ed4caea6",
   "metadata": {},
   "outputs": [
    {
     "data": {
      "text/html": [
       "<div>\n",
       "<style scoped>\n",
       "    .dataframe tbody tr th:only-of-type {\n",
       "        vertical-align: middle;\n",
       "    }\n",
       "\n",
       "    .dataframe tbody tr th {\n",
       "        vertical-align: top;\n",
       "    }\n",
       "\n",
       "    .dataframe thead th {\n",
       "        text-align: right;\n",
       "    }\n",
       "</style>\n",
       "<table border=\"1\" class=\"dataframe\">\n",
       "  <thead>\n",
       "    <tr style=\"text-align: right;\">\n",
       "      <th></th>\n",
       "      <th>Open</th>\n",
       "      <th>High</th>\n",
       "      <th>Low</th>\n",
       "      <th>Close</th>\n",
       "      <th>Adj Close</th>\n",
       "      <th>Volume</th>\n",
       "      <th>MA10</th>\n",
       "      <th>MA50</th>\n",
       "    </tr>\n",
       "    <tr>\n",
       "      <th>Date</th>\n",
       "      <th></th>\n",
       "      <th></th>\n",
       "      <th></th>\n",
       "      <th></th>\n",
       "      <th></th>\n",
       "      <th></th>\n",
       "      <th></th>\n",
       "      <th></th>\n",
       "    </tr>\n",
       "  </thead>\n",
       "  <tbody>\n",
       "    <tr>\n",
       "      <th>2012-07-30</th>\n",
       "      <td>24.000000</td>\n",
       "      <td>24.040001</td>\n",
       "      <td>23.030001</td>\n",
       "      <td>23.150000</td>\n",
       "      <td>23.150000</td>\n",
       "      <td>29285900</td>\n",
       "      <td>27.521</td>\n",
       "      <td>29.8390</td>\n",
       "    </tr>\n",
       "    <tr>\n",
       "      <th>2012-07-31</th>\n",
       "      <td>23.370001</td>\n",
       "      <td>23.370001</td>\n",
       "      <td>21.610001</td>\n",
       "      <td>21.709999</td>\n",
       "      <td>21.709999</td>\n",
       "      <td>56179400</td>\n",
       "      <td>26.883</td>\n",
       "      <td>29.5086</td>\n",
       "    </tr>\n",
       "    <tr>\n",
       "      <th>2012-08-01</th>\n",
       "      <td>21.500000</td>\n",
       "      <td>21.580000</td>\n",
       "      <td>20.840000</td>\n",
       "      <td>20.879999</td>\n",
       "      <td>20.879999</td>\n",
       "      <td>44604400</td>\n",
       "      <td>26.060</td>\n",
       "      <td>29.2456</td>\n",
       "    </tr>\n",
       "    <tr>\n",
       "      <th>2012-08-02</th>\n",
       "      <td>20.770000</td>\n",
       "      <td>20.840000</td>\n",
       "      <td>19.820000</td>\n",
       "      <td>20.040001</td>\n",
       "      <td>20.040001</td>\n",
       "      <td>56374500</td>\n",
       "      <td>25.164</td>\n",
       "      <td>29.0264</td>\n",
       "    </tr>\n",
       "    <tr>\n",
       "      <th>2012-08-03</th>\n",
       "      <td>20.360001</td>\n",
       "      <td>22.160000</td>\n",
       "      <td>19.900000</td>\n",
       "      <td>21.090000</td>\n",
       "      <td>21.090000</td>\n",
       "      <td>80647000</td>\n",
       "      <td>24.397</td>\n",
       "      <td>28.8082</td>\n",
       "    </tr>\n",
       "  </tbody>\n",
       "</table>\n",
       "</div>"
      ],
      "text/plain": [
       "                 Open       High        Low      Close  Adj Close    Volume  \\\n",
       "Date                                                                          \n",
       "2012-07-30  24.000000  24.040001  23.030001  23.150000  23.150000  29285900   \n",
       "2012-07-31  23.370001  23.370001  21.610001  21.709999  21.709999  56179400   \n",
       "2012-08-01  21.500000  21.580000  20.840000  20.879999  20.879999  44604400   \n",
       "2012-08-02  20.770000  20.840000  19.820000  20.040001  20.040001  56374500   \n",
       "2012-08-03  20.360001  22.160000  19.900000  21.090000  21.090000  80647000   \n",
       "\n",
       "              MA10     MA50  \n",
       "Date                         \n",
       "2012-07-30  27.521  29.8390  \n",
       "2012-07-31  26.883  29.5086  \n",
       "2012-08-01  26.060  29.2456  \n",
       "2012-08-02  25.164  29.0264  \n",
       "2012-08-03  24.397  28.8082  "
      ]
     },
     "execution_count": 4,
     "metadata": {},
     "output_type": "execute_result"
    }
   ],
   "source": [
    "fb['MA10'] = fb['Close'].rolling(10).mean()\n",
    "fb['MA50'] = fb['Close'].rolling(50).mean()\n",
    "fb = fb.dropna()\n",
    "fb.head()"
   ]
  },
  {
   "cell_type": "code",
   "execution_count": 5,
   "id": "e6dd844a",
   "metadata": {},
   "outputs": [],
   "source": [
    "#Decide whether to long or not based on this MA Strategy\n",
    "fb['Shares'] = [1 if fb.loc [i, 'MA10'] > fb.loc[i,'MA50'] else 0 for i in fb.index]"
   ]
  },
  {
   "cell_type": "code",
   "execution_count": 6,
   "id": "eb52e56d",
   "metadata": {},
   "outputs": [],
   "source": [
    "fb['Close1'] = fb['Close'].shift(-1)\n",
    "fb['Profit'] = [fb.loc[i, 'Close1'] - fb.loc[i, 'Close'] if fb.loc[i, 'Shares']==1 else 0 for i in fb.index]"
   ]
  },
  {
   "cell_type": "code",
   "execution_count": 7,
   "id": "7acc630d",
   "metadata": {},
   "outputs": [
    {
     "data": {
      "text/plain": [
       "<matplotlib.lines.Line2D at 0x2d6236d0a90>"
      ]
     },
     "execution_count": 7,
     "metadata": {},
     "output_type": "execute_result"
    },
    {
     "data": {
      "image/png": "[encoded data removed]",
      "text/plain": [
       "<Figure size 432x288 with 1 Axes>"
      ]
     },
     "metadata": {
      "needs_background": "light"
     },
     "output_type": "display_data"
    }
   ],
   "source": [
    "fb['Profit'].plot()\n",
    "plt.axhline(y=0, color = 'red')"
   ]
  },
  {
   "cell_type": "code",
   "execution_count": 8,
   "id": "1a1eda99",
   "metadata": {},
   "outputs": [],
   "source": [
    "fb['Wealth'] = fb['Profit'].cumsum()"
   ]
  },
  {
   "cell_type": "code",
   "execution_count": 9,
   "id": "92301a88",
   "metadata": {},
   "outputs": [
    {
     "data": {
      "text/plain": [
       "<AxesSubplot:xlabel='Date'>"
      ]
     },
     "execution_count": 9,
     "metadata": {},
     "output_type": "execute_result"
    },
    {
     "data": {
      "image/png": "[encoded data removed]",
      "text/plain": [
       "<Figure size 432x288 with 1 Axes>"
      ]
     },
     "metadata": {
      "needs_background": "light"
     },
     "output_type": "display_data"
    }
   ],
   "source": [
    "fb['Wealth'].plot()"
   ]
  },
  {
   "cell_type": "code",
   "execution_count": 40,
   "id": "9b1bcb25",
   "metadata": {},
   "outputs": [
    {
     "data": {
      "text/plain": [
       "161.62"
      ]
     },
     "execution_count": 40,
     "metadata": {},
     "output_type": "execute_result"
    }
   ],
   "source": [
    "profit =round (fb.loc[fb.index[-2], 'Wealth'],2)\n",
    "profit"
   ]
  },
  {
   "cell_type": "code",
   "execution_count": null,
   "id": "a7e6a88e",
   "metadata": {},
   "outputs": [],
   "source": []
  }
 ],
 "metadata": {
  "kernelspec": {
   "display_name": "Python 3 (ipykernel)",
   "language": "python",
   "name": "python3"
  },
  "language_info": {
   "codemirror_mode": {
    "name": "ipython",
    "version": 3
   },
   "file_extension": ".py",
   "mimetype": "text/x-python",
   "name": "python",
   "nbconvert_exporter": "python",
   "pygments_lexer": "ipython3",
   "version": "3.9.7"
  }
 },
 "nbformat": 4,
 "nbformat_minor": 5
}
